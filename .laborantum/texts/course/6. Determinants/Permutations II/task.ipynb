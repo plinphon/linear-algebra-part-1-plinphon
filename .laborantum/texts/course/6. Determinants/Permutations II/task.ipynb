{
    "cells": [
        {
            "cell_type": "markdown",
            "metadata": {},
            "source": [
                "# Permutations II\n",
                "\n",
                "Write a program that calculates the determinant of a matrix and all the products leading to this value using permutation formula:\n",
                "\n",
                "$$\\det A = \\sum_{\\sigma \\in P_N} \\mathrm{sign} (\\sigma) \\prod_{i=1}^N a_{\\sigma_i}$$\n",
                "\n",
                "To get the list of all possible permutations, use `itertools.permutations`.\n",
                "\n",
                "To check for the sign of a pertmutation, check lengths of all cycles in every permutation."
            ]
        },
        {
            "cell_type": "code",
            "execution_count": 1,
            "metadata": {},
            "outputs": [],
            "source": [
                "import numpy as np\n",
                "import json_tricks\n",
                "from pathlib import Path\n",
                "import os"
            ]
        },
        {
            "cell_type": "code",
            "execution_count": null,
            "metadata": {},
            "outputs": [],
            "source": [
                "from itertools import permutations\n",
                "\n",
                "def determinant(A):\n",
                "    n = A.shape[0]\n",
                "    assert A.shape[0] == A.shape[1]\n",
                "\n",
                "    det = 0\n",
                "    elements = []\n",
                "\n",
                "    for perm in permutations(range(n)):\n",
                "        sign = permutation_sign(perm)\n",
                "        product = 1\n",
                "        for i in range(n):\n",
                "            product *= A[i, perm[i]]\n",
                "    \n",
                "        signed_product = sign * product\n",
                "    \n",
                "        det += signed_product\n",
                "        \n",
                "        elements.append(signed_product)\n",
                "\n",
                "    return det, sorted(elements)\n",
                "\n",
                "def permutation_sign(perm):\n",
                "\n",
                "    n = len(perm)\n",
                "    visited = [False] * n\n",
                "    num_even_cycles = 0\n",
                "    \n",
                "    for i in range(n):\n",
                "        if not visited[i]:\n",
                "            cycle_length = 0\n",
                "            j = i\n",
                "            while not visited[j]:\n",
                "                visited[j] = True\n",
                "                j = perm[j]\n",
                "                cycle_length += 1\n",
                "            \n",
                "            if cycle_length % 2 == 0:\n",
                "                num_even_cycles += 1\n",
                "    \n",
                "    return (-1) ** num_even_cycles\n"
            ]
        },
        {
            "cell_type": "code",
            "execution_count": null,
            "metadata": {},
            "outputs": [],
            "source": [
                "inputs = json_tricks.load('inputs/inputs.json')\n",
                "results = {'results': []}\n",
                "\n",
                "for args in inputs['inputs']:\n",
                "    results['results'].append([determinant(**args)])\n",
                "\n",
                "json_tricks.dump(results, '.answer.json')"
            ]
        }
    ],
    "metadata": {
        "kernelspec": {
            "display_name": "Python (Container)",
            "language": "python",
            "name": "container_env"
        },
        "language_info": {
            "codemirror_mode": {
                "name": "ipython",
                "version": 3
            },
            "file_extension": ".py",
            "mimetype": "text/x-python",
            "name": "python",
            "nbconvert_exporter": "python",
            "pygments_lexer": "ipython3",
            "version": "3.11.12"
        }
    },
    "nbformat": 4,
    "nbformat_minor": 2
}
