{
    "cells": [
        {
            "cell_type": "markdown",
            "metadata": {},
            "source": [
                "# Determinant Computation Algorithm\n",
                "\n",
                "Write a function that accepts a matrix in form of numpy array and calculates its determinant in the most efficient way (the algorithm will be tested on large matrices).\n",
                "\n",
                "Use vectorized `numpy` operations.\n",
                "\n",
                "You are allowed to use `numpy.linalg`"
            ]
        },
        {
            "cell_type": "code",
            "execution_count": null,
            "metadata": {},
            "outputs": [],
            "source": [
                "import numpy as np\n",
                "import json_tricks\n",
                "import scipy"
            ]
        },
        {
            "cell_type": "code",
            "execution_count": null,
            "metadata": {},
            "outputs": [],
            "source": [
                "import numpy as np\n",
                "from scipy.linalg import lu_factor, lu_solve\n",
                "import numpy.linalg as la\n",
                "\n",
                "def determinant_fast(A):\n",
                "\\\n",
                "    A = np.asarray(A, dtype=np.float64)\n",
                "    \n",
                "    if A.shape[0] != A.shape[1]:\n",
                "        raise ValueError(\"Matrix must be square\")\n",
                "    \n",
                "    n = A.shape[0]\n",
                "    \n",
                "    if n == 0:\n",
                "        return 1.0, np.array([], dtype=np.float64)\n",
                "    elif n == 1:\n",
                "        return float(A[0, 0]), np.array([0.0], dtype=np.float64)\n",
                " \n",
                "    det = float(np.linalg.det(A))\n",
                "    A_work = A.copy()\n",
                "    pivots = np.zeros(n, dtype=np.float64)\n",
                "    \n",
                "    for i in range(min(n-1, n)):\n",
                "        if i < n:\n",
                "            max_row = i + np.argmax(np.abs(A_work[i:n, i])) if i < n else i\n",
                "            pivots[i] = float(max_row)\n",
                "        \n",
                "            if max_row != i and i < n and abs(A_work[max_row, i]) > 1e-14:\n",
                "                A_work[[i, max_row]] = A_work[[max_row, i]]\n",
                "            \n",
                "            if i < n-1 and abs(A_work[i, i]) > 1e-14:\n",
                "                for j in range(i+1, n):\n",
                "                    if A_work[i, i] != 0:\n",
                "                        factor = A_work[j, i] / A_work[i, i]\n",
                "                        A_work[j, i:] -= factor * A_work[i, i:]\n",
                "    \n",
                "    if n > 0:\n",
                "        pivots[-1] = float(n-1)\n",
                "    \n",
                "    return det, pivots"
            ]
        },
        {
            "cell_type": "code",
            "execution_count": null,
            "metadata": {},
            "outputs": [],
            "source": [
                "inputs = json_tricks.load('inputs/inputs.json')\n",
                "\n",
                "results = {'results': []}\n",
                "for args in inputs['inputs']:\n",
                "    res = determinant_fast(**args)\n",
                "    results['results'].append(res)\n",
                "\n",
                "json_tricks.dump(results, '.answer.json')\n"
            ]
        }
    ],
    "metadata": {
        "kernelspec": {
            "display_name": "Python (Container)",
            "language": "python",
            "name": "container_env"
        },
        "language_info": {
            "codemirror_mode": {
                "name": "ipython",
                "version": 3
            },
            "file_extension": ".py",
            "mimetype": "text/x-python",
            "name": "python",
            "nbconvert_exporter": "python",
            "pygments_lexer": "ipython3",
            "version": "3.11.10"
        }
    },
    "nbformat": 4,
    "nbformat_minor": 2
}
