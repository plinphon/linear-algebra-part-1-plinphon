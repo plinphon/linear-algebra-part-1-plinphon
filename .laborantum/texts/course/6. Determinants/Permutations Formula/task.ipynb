{
    "cells": [
        {
            "cell_type": "markdown",
            "id": "e57b7bca",
            "metadata": {},
            "source": [
                "# Permutations Formula\n",
                "\n",
                "Write the positive and negative permutations for $2 \\times 2$, $3 \\times 3$ and $4 \\times 4$ matrices as set of strings (Example: `\"1 2 3 4\"`). Remember to check the signs."
            ]
        },
        {
            "cell_type": "code",
            "execution_count": null,
            "id": "9c108119",
            "metadata": {},
            "outputs": [],
            "source": [
                "answer = {\n",
                "    \"2x2\": {\n",
                "        \"+\": sorted([\n",
                "            \"1 2\"\n",
                "        ]),\n",
                "        \"-\": sorted([\n",
                "            \"2 1\"\n",
                "        ])\n",
                "    },\n",
                "    \"3x3\": {\n",
                "        \"+\": sorted([\n",
                "            \"1 2 3\",\n",
                "            \"2 3 1\",\n",
                "            \"3 1 2\"\n",
                "        ]),\n",
                "        \"-\": sorted([\n",
                "            \"1 3 2\",\n",
                "            \"3 2 1\",\n",
                "            \"2 1 3\"\n",
                "        ])\n",
                "    },\n",
                "    \"4x4\": {\n",
                "        \"+\": sorted([\n",
                "            \"1 2 3 4\",\n",
                "            \"1 3 4 2\",\n",
                "            \"1 4 2 3\",\n",
                "            \"2 1 4 3\",\n",
                "            \"2 3 1 4\",\n",
                "            \"2 4 3 1\",\n",
                "            \"3 1 2 4\",\n",
                "            \"3 4 1 2\",  \n",
                "            \"3 2 4 1\", \n",
                "            \"4 1 3 2\",\n",
                "            \"4 2 1 3\",\n",
                "            \"4 3 2 1\"\n",
                "        ]),\n",
                "        \"-\": sorted([\n",
                "            \"1 2 4 3\",\n",
                "            \"1 3 2 4\",\n",
                "            \"1 4 3 2\",\n",
                "            \"2 1 3 4\",\n",
                "            \"2 3 4 1\",\n",
                "            \"2 4 1 3\",\n",
                "            \"3 1 4 2\",\n",
                "            \"3 2 1 4\",\n",
                "            \"3 4 2 1\",\n",
                "            \"4 1 2 3\",\n",
                "            \"4 2 3 1\",\n",
                "            \"4 3 1 2\"\n",
                "        ])\n",
                "    }\n",
                "}\n"
            ]
        }
    ],
    "metadata": {
        "kernelspec": {
            "display_name": "Python (Container)",
            "language": "python",
            "name": "container_env"
        },
        "language_info": {
            "codemirror_mode": {
                "name": "ipython",
                "version": 3
            },
            "file_extension": ".py",
            "mimetype": "text/x-python",
            "name": "python",
            "nbconvert_exporter": "python",
            "pygments_lexer": "ipython3",
            "version": "3.11.12"
        }
    },
    "nbformat": 4,
    "nbformat_minor": 5
}
