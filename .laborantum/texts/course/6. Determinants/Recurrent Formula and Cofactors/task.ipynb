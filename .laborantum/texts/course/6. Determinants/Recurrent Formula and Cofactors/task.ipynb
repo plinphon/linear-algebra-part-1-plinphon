{
    "cells": [
        {
            "cell_type": "markdown",
            "metadata": {},
            "source": [
                "# Recurrent Formula and Cofactors\n",
                "\n",
                "Find cofactor matrix first column and determinant for the matrices:\n",
                "\n",
                "1. $\n",
                "\\begin{bmatrix}\n",
                "1 & 2 & 2 & 2 \\\\\n",
                "1 & 1 & 2 & 2 \\\\\n",
                "1 & 1 & 1 & 2 \\\\\n",
                "1 & 1 & 1 & 1\n",
                "\\end{bmatrix}\n",
                "$\n",
                "\n",
                "2. $\n",
                "\\begin{bmatrix}\n",
                "1 & 2 & 3 & 4 \\\\\n",
                "1 & 1 & 2 & 3 \\\\\n",
                "1 & 1 & 1 & 2 \\\\\n",
                "1 & 1 & 1 & 1\n",
                "\\end{bmatrix}\n",
                "$\n",
                "\n"
            ],
            "outputs": []
        },
        {
            "cell_type": "code",
            "execution_count": 1,
            "metadata": {},
            "outputs": [],
            "source": [
                "import numpy as np\n",
                "import json_tricks"
            ]
        },
        {
            "cell_type": "code",
            "execution_count": null,
            "metadata": {},
            "outputs": [],
            "source": [
                "answer = {\n",
                "    'task1': {\n",
                "        'C1': np.array([[\n",
                "        ]]).T,\n",
                "        'det': (\n",
                "        )\n",
                "    },\n",
                "    'task2': {\n",
                "        'C1': np.array([[\n",
                "        ]]),\n",
                "        'det': (\n",
                "        )\n",
                "    }\n",
                "}"
            ]
        },
        {
            "cell_type": "code",
            "execution_count": 3,
            "metadata": {},
            "outputs": [],
            "source": [
                "json_tricks.dump(answer, '.answer.json')"
            ]
        }
    ],
    "metadata": {
        "kernelspec": {
            "display_name": "Python (Container)",
            "language": "python",
            "name": "container_env"
        },
        "language_info": {
            "codemirror_mode": {
                "name": "ipython",
                "version": 3
            },
            "file_extension": ".py",
            "mimetype": "text/x-python",
            "name": "python",
            "nbconvert_exporter": "python",
            "pygments_lexer": "ipython3",
            "version": "3.11.12"
        }
    },
    "nbformat": 4,
    "nbformat_minor": 2
}