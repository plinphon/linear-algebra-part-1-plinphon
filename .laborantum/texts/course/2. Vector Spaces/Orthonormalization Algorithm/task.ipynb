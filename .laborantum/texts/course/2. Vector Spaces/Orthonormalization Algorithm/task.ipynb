{
    "cells": [
        {
            "cell_type": "code",
            "execution_count": null,
            "id": "e0e099a8",
            "metadata": {},
            "outputs": [],
            "source": [
                "import numpy as np\n",
                "import json_tricks\n",
                "\n"
            ]
        },
        {
            "cell_type": "code",
            "execution_count": null,
            "id": "d9266a90",
            "metadata": {},
            "outputs": [],
            "source": [
                "inputs = json_tricks.load('inputs/inputs.json')\n",
                "answer = {}"
            ]
        },
        {
            "cell_type": "markdown",
            "id": "5507914f",
            "metadata": {},
            "source": [
                "# Task\n",
                "\n",
                "Code the orthonormalization algorithm: it should accept the column matrix with vectors and it should return orthonormalized cooumn matrix of vectors that were orthonormalized in the order from the first one to the last one.\n",
                "\n",
                "To make the algorithm stable from the point of view of division, divide not with the length of the vector, but with length plus some small value `eps`. This way your algorithm will never return division by zero, and the problematic vectors will be highlighted by the vectors in the result that have zero length."
            ]
        },
        {
            "cell_type": "code",
            "execution_count": null,
            "id": "ccd276d0",
            "metadata": {},
            "outputs": [],
            "source": [
                "import numpy as np\n",
                "\n",
                "def orthonormalization(X, eps=1.0e-8):\n",
                "    res = X.copy().astype(np.float64) \n",
                "    \n",
                "    n_cols = res.shape[1]  \n",
                "    for i in range(n_cols):\n",
                "        for j in range(i):\n",
                "            proj = np.dot(res[:, j], res[:, i]) * res[:, j]\n",
                "            res[:, i] = res[:, i] - proj\n",
                "        \n",
                "        norm = np.linalg.norm(res[:, i])\n",
                "        res[:, i] = res[:, i] / (norm + eps)\n",
                "    \n",
                "    return res\n"
            ]
        },
        {
            "cell_type": "code",
            "execution_count": null,
            "id": "8a0f0dc8",
            "metadata": {},
            "outputs": [],
            "source": [
                "answer['orthonormalized'] = []\n",
                "for inp in inputs:\n",
                "    Y = orthonormalization(**inp)\n",
                "\n",
                "    answer['orthonormalized'].append(Y)\n",
                "\n",
                "    for index in range(Y.shape[1]):\n",
                "        for index2 in range(Y.shape[1]):\n",
                "            if index != index2:\n",
                "                assert np.abs(Y[:, index] * Y[:, index2]).sum() > 0.0e-4, \"Different vectors should be orthogonal or zero\""
            ]
        },
        {
            "cell_type": "code",
            "execution_count": null,
            "id": "e0cd16d6",
            "metadata": {},
            "outputs": [],
            "source": [
                "json_tricks.dump(answer, '.answer.json')"
            ]
        }
    ],
    "metadata": {
        "kernelspec": {
            "display_name": "Python 3",
            "language": "python",
            "name": "python3"
        },
        "language_info": {
            "codemirror_mode": {
                "name": "ipython",
                "version": 3
            },
            "file_extension": ".py",
            "mimetype": "text/x-python",
            "name": "python",
            "nbconvert_exporter": "python",
            "pygments_lexer": "ipython3",
            "version": "3.11.12"
        }
    },
    "nbformat": 4,
    "nbformat_minor": 5
}
